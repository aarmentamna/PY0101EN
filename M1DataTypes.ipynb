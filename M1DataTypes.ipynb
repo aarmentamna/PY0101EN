{
  "nbformat": 4,
  "nbformat_minor": 0,
  "metadata": {
    "colab": {
      "provenance": [],
      "authorship_tag": "ABX9TyOyCSy07hFLPmZNNKcievSi",
      "include_colab_link": true
    },
    "kernelspec": {
      "name": "python3",
      "display_name": "Python 3"
    },
    "language_info": {
      "name": "python"
    }
  },
  "cells": [
    {
      "cell_type": "markdown",
      "metadata": {
        "id": "view-in-github",
        "colab_type": "text"
      },
      "source": [
        "<a href=\"https://colab.research.google.com/github/aarmentamna/PY0101EN/blob/main/M1DataTypes.ipynb\" target=\"_parent\"><img src=\"https://colab.research.google.com/assets/colab-badge.svg\" alt=\"Open In Colab\"/></a>"
      ]
    },
    {
      "cell_type": "markdown",
      "source": [
        "Data Type in Python\n",
        "\n",
        "1.- Boolean"
      ],
      "metadata": {
        "id": "kFd92Y_bHdE6"
      }
    },
    {
      "cell_type": "code",
      "execution_count": 13,
      "metadata": {
        "colab": {
          "base_uri": "https://localhost:8080/"
        },
        "id": "dAmVg0f2GI19",
        "outputId": "05a6df18-605e-4f57-b588-06e5f7d9ce7a"
      },
      "outputs": [
        {
          "output_type": "stream",
          "name": "stdout",
          "text": [
            "True\n"
          ]
        }
      ],
      "source": [
        "print(bool(True))"
      ]
    },
    {
      "cell_type": "code",
      "source": [
        "bool(0)"
      ],
      "metadata": {
        "colab": {
          "base_uri": "https://localhost:8080/"
        },
        "id": "WhJNEs2PHpSv",
        "outputId": "1bfd5004-f4ef-42e3-9ca2-ec629be3d9e0"
      },
      "execution_count": 3,
      "outputs": [
        {
          "output_type": "execute_result",
          "data": {
            "text/plain": [
              "False"
            ]
          },
          "metadata": {},
          "execution_count": 3
        }
      ]
    },
    {
      "cell_type": "markdown",
      "source": [
        "2.- Float"
      ],
      "metadata": {
        "id": "Xxx5boYbHsxj"
      }
    },
    {
      "cell_type": "code",
      "source": [
        "float(100.23)"
      ],
      "metadata": {
        "colab": {
          "base_uri": "https://localhost:8080/"
        },
        "id": "sDGGOr8MH4dZ",
        "outputId": "d2647eae-fe60-4af1-b7fa-857534a1d559"
      },
      "execution_count": 9,
      "outputs": [
        {
          "output_type": "execute_result",
          "data": {
            "text/plain": [
              "100.23"
            ]
          },
          "metadata": {},
          "execution_count": 9
        }
      ]
    },
    {
      "cell_type": "markdown",
      "source": [
        "3.- String"
      ],
      "metadata": {
        "id": "Hj2YVGCMIFp3"
      }
    },
    {
      "cell_type": "code",
      "source": [
        "str(\"Python String\")"
      ],
      "metadata": {
        "colab": {
          "base_uri": "https://localhost:8080/",
          "height": 35
        },
        "id": "6Ty3quwdIHQw",
        "outputId": "21452d28-8ea5-47b3-d2d6-ed0d8d163be5"
      },
      "execution_count": 7,
      "outputs": [
        {
          "output_type": "execute_result",
          "data": {
            "text/plain": [
              "'Python String'"
            ],
            "application/vnd.google.colaboratory.intrinsic+json": {
              "type": "string"
            }
          },
          "metadata": {},
          "execution_count": 7
        }
      ]
    },
    {
      "cell_type": "markdown",
      "source": [
        "4.- Integer"
      ],
      "metadata": {
        "id": "zQz3yhZiIVmJ"
      }
    },
    {
      "cell_type": "code",
      "source": [
        "int(123213123)"
      ],
      "metadata": {
        "colab": {
          "base_uri": "https://localhost:8080/"
        },
        "id": "DQjuUnL4Ij3H",
        "outputId": "7abdf552-02bd-452d-aadd-dbfdfd671069"
      },
      "execution_count": 8,
      "outputs": [
        {
          "output_type": "execute_result",
          "data": {
            "text/plain": [
              "123213123"
            ]
          },
          "metadata": {},
          "execution_count": 8
        }
      ]
    },
    {
      "cell_type": "markdown",
      "source": [
        "Type Casting"
      ],
      "metadata": {
        "id": "uZcpOcuPIpGf"
      }
    },
    {
      "cell_type": "code",
      "source": [
        "print(float(2))\n",
        "print(int(10.34))\n",
        "print(str(10))\n",
        "print(bool(1))"
      ],
      "metadata": {
        "colab": {
          "base_uri": "https://localhost:8080/"
        },
        "id": "49TLyJ9yIuCk",
        "outputId": "23dfcf8b-735c-4db0-c1e2-8e013645ce06"
      },
      "execution_count": 12,
      "outputs": [
        {
          "output_type": "stream",
          "name": "stdout",
          "text": [
            "2.0\n",
            "10\n",
            "10\n",
            "True\n"
          ]
        }
      ]
    }
  ]
}