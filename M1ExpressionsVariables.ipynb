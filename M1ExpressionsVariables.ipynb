{
  "nbformat": 4,
  "nbformat_minor": 0,
  "metadata": {
    "colab": {
      "provenance": [],
      "authorship_tag": "ABX9TyNzsxd6rI+08+p4m+/9zGim",
      "include_colab_link": true
    },
    "kernelspec": {
      "name": "python3",
      "display_name": "Python 3"
    },
    "language_info": {
      "name": "python"
    }
  },
  "cells": [
    {
      "cell_type": "markdown",
      "metadata": {
        "id": "view-in-github",
        "colab_type": "text"
      },
      "source": [
        "<a href=\"https://colab.research.google.com/github/aarmentamna/PY0101EN/blob/main/M1ExpressionsVariables.ipynb\" target=\"_parent\"><img src=\"https://colab.research.google.com/assets/colab-badge.svg\" alt=\"Open In Colab\"/></a>"
      ]
    },
    {
      "cell_type": "markdown",
      "source": [
        "Declaracion de Variables en Python"
      ],
      "metadata": {
        "id": "-sSB5Qms1Ygt"
      }
    },
    {
      "cell_type": "code",
      "execution_count": 6,
      "metadata": {
        "id": "PbnkFqcdhynn"
      },
      "outputs": [],
      "source": [
        "a=3\n",
        "b=125000.345\n",
        "c='aquiles yonatan'\n",
        "d=True"
      ]
    },
    {
      "cell_type": "markdown",
      "source": [
        "# Operacion Aritmetica Suma con variables"
      ],
      "metadata": {
        "id": "2MBk2oZ91dVC"
      }
    },
    {
      "cell_type": "code",
      "source": [
        "print(a+a)"
      ],
      "metadata": {
        "colab": {
          "base_uri": "https://localhost:8080/"
        },
        "id": "Yki720mV1VLk",
        "outputId": "6cb5e92f-a3a6-454d-aa17-b629afa656ba"
      },
      "execution_count": 8,
      "outputs": [
        {
          "output_type": "stream",
          "name": "stdout",
          "text": [
            "6\n"
          ]
        }
      ]
    },
    {
      "cell_type": "markdown",
      "source": [
        "# Operacion Aritmetica Resta con variables"
      ],
      "metadata": {
        "id": "4RpcfQaj1v8O"
      }
    },
    {
      "cell_type": "code",
      "source": [
        "print(a-a)"
      ],
      "metadata": {
        "colab": {
          "base_uri": "https://localhost:8080/"
        },
        "id": "PCanN4mU12kq",
        "outputId": "a9a50ed5-5c3a-4a86-9172-bbcc5f4aff4a"
      },
      "execution_count": 9,
      "outputs": [
        {
          "output_type": "stream",
          "name": "stdout",
          "text": [
            "0\n"
          ]
        }
      ]
    },
    {
      "cell_type": "markdown",
      "source": [
        "Operacion Aritmetica Multiplicacion con Variables"
      ],
      "metadata": {
        "id": "R3MdZmad15up"
      }
    },
    {
      "cell_type": "code",
      "source": [
        "print(a*b)"
      ],
      "metadata": {
        "colab": {
          "base_uri": "https://localhost:8080/"
        },
        "id": "UAX10mGu2Cpn",
        "outputId": "7cd3dbb5-c0b2-4390-bb81-14a32c9ae965"
      },
      "execution_count": 10,
      "outputs": [
        {
          "output_type": "stream",
          "name": "stdout",
          "text": [
            "375001.03500000003\n"
          ]
        }
      ]
    },
    {
      "cell_type": "markdown",
      "source": [
        "operacion Aritmetica Division con Variables"
      ],
      "metadata": {
        "id": "EvO2hopP2IzX"
      }
    },
    {
      "cell_type": "code",
      "source": [
        "print(b/a)"
      ],
      "metadata": {
        "colab": {
          "base_uri": "https://localhost:8080/"
        },
        "id": "YZAaJV5J2MN_",
        "outputId": "2f5ad75d-cfbd-4e42-ceca-f103915a75a1"
      },
      "execution_count": 11,
      "outputs": [
        {
          "output_type": "stream",
          "name": "stdout",
          "text": [
            "41666.78166666667\n"
          ]
        }
      ]
    },
    {
      "cell_type": "markdown",
      "source": [
        "Manejo de Cadenas"
      ],
      "metadata": {
        "id": "ZswBGYlM2Stv"
      }
    },
    {
      "cell_type": "code",
      "source": [
        "print(c.upper())"
      ],
      "metadata": {
        "colab": {
          "base_uri": "https://localhost:8080/"
        },
        "id": "dVSBWK-d2RM0",
        "outputId": "a811e6c0-fc1f-4706-e9f5-cf0de56b1f0b"
      },
      "execution_count": 16,
      "outputs": [
        {
          "output_type": "stream",
          "name": "stdout",
          "text": [
            "AQUILES YONATAN\n"
          ]
        }
      ]
    }
  ]
}