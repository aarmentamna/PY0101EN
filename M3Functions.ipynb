{
  "nbformat": 4,
  "nbformat_minor": 0,
  "metadata": {
    "colab": {
      "provenance": [],
      "authorship_tag": "ABX9TyP3mWJAJjM5/JeN3gisM8n5",
      "include_colab_link": true
    },
    "kernelspec": {
      "name": "python3",
      "display_name": "Python 3"
    },
    "language_info": {
      "name": "python"
    }
  },
  "cells": [
    {
      "cell_type": "markdown",
      "metadata": {
        "id": "view-in-github",
        "colab_type": "text"
      },
      "source": [
        "<a href=\"https://colab.research.google.com/github/aarmentamna/PY0101EN/blob/main/M3Functions.ipynb\" target=\"_parent\"><img src=\"https://colab.research.google.com/assets/colab-badge.svg\" alt=\"Open In Colab\"/></a>"
      ]
    },
    {
      "cell_type": "markdown",
      "source": [
        "Funtions"
      ],
      "metadata": {
        "id": "_Vo61c_-dAD8"
      }
    },
    {
      "cell_type": "code",
      "execution_count": 1,
      "metadata": {
        "id": "-xYts8OPc_bx"
      },
      "outputs": [],
      "source": [
        "def add(a):\n",
        "    \"\"\"\n",
        "    add 1 to a\n",
        "    \"\"\"\n",
        "    b = a + 1\n",
        "    print(a, \"if you add one\", b)\n",
        "    return(b)"
      ]
    },
    {
      "cell_type": "code",
      "source": [
        "help(add)"
      ],
      "metadata": {
        "colab": {
          "base_uri": "https://localhost:8080/"
        },
        "id": "COWhR-xmdhMg",
        "outputId": "f2f077b2-b6ef-4327-c5c8-8c6bbb363810"
      },
      "execution_count": 2,
      "outputs": [
        {
          "output_type": "stream",
          "name": "stdout",
          "text": [
            "Help on function add in module __main__:\n",
            "\n",
            "add(a)\n",
            "    add 1 to a\n",
            "\n"
          ]
        }
      ]
    },
    {
      "cell_type": "code",
      "source": [
        "add(1)"
      ],
      "metadata": {
        "colab": {
          "base_uri": "https://localhost:8080/"
        },
        "id": "Spl4KOMxdpBC",
        "outputId": "69525185-b37f-4946-8437-791a8a79a8b5"
      },
      "execution_count": 3,
      "outputs": [
        {
          "output_type": "stream",
          "name": "stdout",
          "text": [
            "1 if you add one 2\n"
          ]
        },
        {
          "output_type": "execute_result",
          "data": {
            "text/plain": [
              "2"
            ]
          },
          "metadata": {},
          "execution_count": 3
        }
      ]
    },
    {
      "cell_type": "code",
      "source": [
        "add(2)"
      ],
      "metadata": {
        "colab": {
          "base_uri": "https://localhost:8080/"
        },
        "id": "zpWjssJrdrSO",
        "outputId": "2c8b6319-58e7-4674-f0a9-3181f3661136"
      },
      "execution_count": 4,
      "outputs": [
        {
          "output_type": "stream",
          "name": "stdout",
          "text": [
            "2 if you add one 3\n"
          ]
        },
        {
          "output_type": "execute_result",
          "data": {
            "text/plain": [
              "3"
            ]
          },
          "metadata": {},
          "execution_count": 4
        }
      ]
    },
    {
      "cell_type": "code",
      "source": [
        "def Mult(a, b):\n",
        "    c = a * b\n",
        "    return(c)\n",
        "    print('This is not printed')\n",
        "    \n",
        "result = Mult(12,2)\n",
        "print(result)"
      ],
      "metadata": {
        "colab": {
          "base_uri": "https://localhost:8080/"
        },
        "id": "Kk1vBOYwdwR9",
        "outputId": "3d31f8af-567b-41ee-e8e2-44bf56618375"
      },
      "execution_count": 5,
      "outputs": [
        {
          "output_type": "stream",
          "name": "stdout",
          "text": [
            "24\n"
          ]
        }
      ]
    },
    {
      "cell_type": "code",
      "source": [
        "Mult(2, 3)"
      ],
      "metadata": {
        "colab": {
          "base_uri": "https://localhost:8080/"
        },
        "id": "JdAE8amjd0BF",
        "outputId": "e471ecd3-d9f5-4ac7-9800-12d6c8534d48"
      },
      "execution_count": 6,
      "outputs": [
        {
          "output_type": "execute_result",
          "data": {
            "text/plain": [
              "6"
            ]
          },
          "metadata": {},
          "execution_count": 6
        }
      ]
    },
    {
      "cell_type": "code",
      "source": [
        "Mult(10.0, 3.14)"
      ],
      "metadata": {
        "colab": {
          "base_uri": "https://localhost:8080/"
        },
        "id": "AQHxf21kd2kG",
        "outputId": "1771d804-861c-408a-c74f-4536b433a1df"
      },
      "execution_count": 7,
      "outputs": [
        {
          "output_type": "execute_result",
          "data": {
            "text/plain": [
              "31.400000000000002"
            ]
          },
          "metadata": {},
          "execution_count": 7
        }
      ]
    },
    {
      "cell_type": "code",
      "source": [
        "Mult(2, \"Michael Jackson \")"
      ],
      "metadata": {
        "colab": {
          "base_uri": "https://localhost:8080/",
          "height": 35
        },
        "id": "GaE1JnOKd6jH",
        "outputId": "a3f55006-5924-4831-d467-e9cf981e0c16"
      },
      "execution_count": 8,
      "outputs": [
        {
          "output_type": "execute_result",
          "data": {
            "text/plain": [
              "'Michael Jackson Michael Jackson '"
            ],
            "application/vnd.google.colaboratory.intrinsic+json": {
              "type": "string"
            }
          },
          "metadata": {},
          "execution_count": 8
        }
      ]
    },
    {
      "cell_type": "code",
      "source": [
        "def square(a):\n",
        "    \n",
        "    # Local variable b\n",
        "    b = 1\n",
        "    c = a * a + b\n",
        "    print(a, \"if you square + 1\", c) \n",
        "    return(c)"
      ],
      "metadata": {
        "id": "4WlZ1J2Ed-Jp"
      },
      "execution_count": 9,
      "outputs": []
    },
    {
      "cell_type": "code",
      "source": [
        "x = 3\n",
        "# Makes function call and return function a y\n",
        "y = square(x)\n",
        "y"
      ],
      "metadata": {
        "colab": {
          "base_uri": "https://localhost:8080/"
        },
        "id": "kyV0c0tEeBRt",
        "outputId": "c7eef11e-ad6f-4e49-ff62-4467fc2e39d9"
      },
      "execution_count": 10,
      "outputs": [
        {
          "output_type": "stream",
          "name": "stdout",
          "text": [
            "3 if you square + 1 10\n"
          ]
        },
        {
          "output_type": "execute_result",
          "data": {
            "text/plain": [
              "10"
            ]
          },
          "metadata": {},
          "execution_count": 10
        }
      ]
    },
    {
      "cell_type": "code",
      "source": [
        "square(2)"
      ],
      "metadata": {
        "colab": {
          "base_uri": "https://localhost:8080/"
        },
        "id": "OdNLQhfseEVC",
        "outputId": "96ee187e-2bbe-4b30-f420-60b75406f955"
      },
      "execution_count": 11,
      "outputs": [
        {
          "output_type": "stream",
          "name": "stdout",
          "text": [
            "2 if you square + 1 5\n"
          ]
        },
        {
          "output_type": "execute_result",
          "data": {
            "text/plain": [
              "5"
            ]
          },
          "metadata": {},
          "execution_count": 11
        }
      ]
    },
    {
      "cell_type": "code",
      "source": [
        "def MJ():\n",
        "    print('Michael Jackson')\n",
        "    \n",
        "def MJ1():\n",
        "    print('Michael Jackson')\n",
        "    return(None)"
      ],
      "metadata": {
        "id": "SPRHtN6zeH4g"
      },
      "execution_count": 12,
      "outputs": []
    },
    {
      "cell_type": "code",
      "source": [
        "MJ()"
      ],
      "metadata": {
        "colab": {
          "base_uri": "https://localhost:8080/"
        },
        "id": "bRVt_QyleKN9",
        "outputId": "d14a64e4-06f7-4c6d-b8e8-1b7723f10995"
      },
      "execution_count": 13,
      "outputs": [
        {
          "output_type": "stream",
          "name": "stdout",
          "text": [
            "Michael Jackson\n"
          ]
        }
      ]
    },
    {
      "cell_type": "code",
      "source": [
        "MJ1()"
      ],
      "metadata": {
        "colab": {
          "base_uri": "https://localhost:8080/"
        },
        "id": "UWDKm2vPeMg3",
        "outputId": "9791ee59-e16a-4dd6-93f9-825aa5356801"
      },
      "execution_count": 14,
      "outputs": [
        {
          "output_type": "stream",
          "name": "stdout",
          "text": [
            "Michael Jackson\n"
          ]
        }
      ]
    },
    {
      "cell_type": "code",
      "source": [
        "print(MJ())\n",
        "print(MJ1())"
      ],
      "metadata": {
        "colab": {
          "base_uri": "https://localhost:8080/"
        },
        "id": "Xdg-Hw1yeQg6",
        "outputId": "4422a387-754c-45eb-f44d-a1b1da31e0f3"
      },
      "execution_count": 15,
      "outputs": [
        {
          "output_type": "stream",
          "name": "stdout",
          "text": [
            "Michael Jackson\n",
            "None\n",
            "Michael Jackson\n",
            "None\n"
          ]
        }
      ]
    },
    {
      "cell_type": "code",
      "source": [
        "def con(a, b):\n",
        "    return(a + b)"
      ],
      "metadata": {
        "id": "cDYiUhJkeUkq"
      },
      "execution_count": 16,
      "outputs": []
    },
    {
      "cell_type": "code",
      "source": [
        "con(\"This \", \"is\")"
      ],
      "metadata": {
        "colab": {
          "base_uri": "https://localhost:8080/",
          "height": 35
        },
        "id": "ELHxeZTIeXjB",
        "outputId": "366da70e-ff94-4189-87d8-229fb6f4b7c5"
      },
      "execution_count": 17,
      "outputs": [
        {
          "output_type": "execute_result",
          "data": {
            "text/plain": [
              "'This is'"
            ],
            "application/vnd.google.colaboratory.intrinsic+json": {
              "type": "string"
            }
          },
          "metadata": {},
          "execution_count": 17
        }
      ]
    },
    {
      "cell_type": "code",
      "source": [
        "a1 = 4\n",
        "b1 = 5\n",
        "c1 = a1 + b1 + 2 * a1 * b1 - 1\n",
        "if(c1 < 0):\n",
        "    c1 = 0 \n",
        "else:\n",
        "    c1 = 5\n",
        "c1   "
      ],
      "metadata": {
        "colab": {
          "base_uri": "https://localhost:8080/"
        },
        "id": "OJXIXBFZebsQ",
        "outputId": "075ddd80-efe9-4381-93a3-d0333b7bcd0c"
      },
      "execution_count": 18,
      "outputs": [
        {
          "output_type": "execute_result",
          "data": {
            "text/plain": [
              "5"
            ]
          },
          "metadata": {},
          "execution_count": 18
        }
      ]
    },
    {
      "cell_type": "code",
      "source": [
        "a2 = 0\n",
        "b2 = 0\n",
        "c2 = a2 + b2 + 2 * a2 * b2 - 1\n",
        "if(c2 < 0):\n",
        "    c2 = 0 \n",
        "else:\n",
        "    c2 = 5\n",
        "c2   "
      ],
      "metadata": {
        "colab": {
          "base_uri": "https://localhost:8080/"
        },
        "id": "tEnCrlnteesd",
        "outputId": "053d45f4-3caa-4d14-816c-d9ce2e9cfbe9"
      },
      "execution_count": 19,
      "outputs": [
        {
          "output_type": "execute_result",
          "data": {
            "text/plain": [
              "0"
            ]
          },
          "metadata": {},
          "execution_count": 19
        }
      ]
    },
    {
      "cell_type": "code",
      "source": [
        "def Equation(a,b):\n",
        "    c = a + b + 2 * a * b - 1\n",
        "    if(c < 0):\n",
        "        c = 0 \n",
        "    else:\n",
        "        c = 5\n",
        "    return(c) "
      ],
      "metadata": {
        "id": "Sy-Mm4P4ehUs"
      },
      "execution_count": 20,
      "outputs": []
    },
    {
      "cell_type": "code",
      "source": [
        "a1 = 4\n",
        "b1 = 5\n",
        "c1 = Equation(a1, b1)\n",
        "c1"
      ],
      "metadata": {
        "colab": {
          "base_uri": "https://localhost:8080/"
        },
        "id": "e1Re_yshekE0",
        "outputId": "63272d5e-0adb-4b6e-dd89-923f1aff1b3a"
      },
      "execution_count": 21,
      "outputs": [
        {
          "output_type": "execute_result",
          "data": {
            "text/plain": [
              "5"
            ]
          },
          "metadata": {},
          "execution_count": 21
        }
      ]
    },
    {
      "cell_type": "code",
      "source": [
        "a2 = 0\n",
        "b2 = 0\n",
        "c2 = Equation(a2, b2)\n",
        "c2"
      ],
      "metadata": {
        "colab": {
          "base_uri": "https://localhost:8080/"
        },
        "id": "iNfgW_d3em4Q",
        "outputId": "975a04d3-30fa-4f4e-9ee1-5e1ec81a5a58"
      },
      "execution_count": 22,
      "outputs": [
        {
          "output_type": "execute_result",
          "data": {
            "text/plain": [
              "0"
            ]
          },
          "metadata": {},
          "execution_count": 22
        }
      ]
    },
    {
      "cell_type": "code",
      "source": [
        "album_ratings = [10.0, 8.5, 9.5, 7.0, 7.0, 9.5, 9.0, 9.5] \n",
        "print(album_ratings)"
      ],
      "metadata": {
        "colab": {
          "base_uri": "https://localhost:8080/"
        },
        "id": "fIVyrbJkepzB",
        "outputId": "bb36925f-cb7f-4eea-c1f8-e1ca03a8833f"
      },
      "execution_count": 23,
      "outputs": [
        {
          "output_type": "stream",
          "name": "stdout",
          "text": [
            "[10.0, 8.5, 9.5, 7.0, 7.0, 9.5, 9.0, 9.5]\n"
          ]
        }
      ]
    },
    {
      "cell_type": "code",
      "source": [
        "sum(album_ratings)"
      ],
      "metadata": {
        "colab": {
          "base_uri": "https://localhost:8080/"
        },
        "id": "HTR7eTcKetAB",
        "outputId": "0ff6ba67-2d4c-4e2d-aa08-c168e81fe8ce"
      },
      "execution_count": 24,
      "outputs": [
        {
          "output_type": "execute_result",
          "data": {
            "text/plain": [
              "70.0"
            ]
          },
          "metadata": {},
          "execution_count": 24
        }
      ]
    },
    {
      "cell_type": "code",
      "source": [
        "len(album_ratings)"
      ],
      "metadata": {
        "colab": {
          "base_uri": "https://localhost:8080/"
        },
        "id": "EfpfGRoXevNw",
        "outputId": "a4f49ed6-4646-4223-83df-e21422b5ba6a"
      },
      "execution_count": 25,
      "outputs": [
        {
          "output_type": "execute_result",
          "data": {
            "text/plain": [
              "8"
            ]
          },
          "metadata": {},
          "execution_count": 25
        }
      ]
    },
    {
      "cell_type": "code",
      "source": [
        "def type_of_album(artist, album, year_released):\n",
        "    \n",
        "    print(artist, album, year_released)\n",
        "    if year_released > 1980:\n",
        "        return \"Modern\"\n",
        "    else:\n",
        "        return \"Oldie\"\n",
        "    \n",
        "x = type_of_album(\"Michael Jackson\", \"Thriller\", 1980)\n",
        "print(x)"
      ],
      "metadata": {
        "colab": {
          "base_uri": "https://localhost:8080/"
        },
        "id": "m6HbNAUJex4G",
        "outputId": "9a3382e4-7e07-4fe0-a6fd-91f61cbeb719"
      },
      "execution_count": 26,
      "outputs": [
        {
          "output_type": "stream",
          "name": "stdout",
          "text": [
            "Michael Jackson Thriller 1980\n",
            "Oldie\n"
          ]
        }
      ]
    },
    {
      "cell_type": "code",
      "source": [
        "def PrintList(the_list):\n",
        "    for element in the_list:\n",
        "        print(element)"
      ],
      "metadata": {
        "id": "sxrR9zA1e2Af"
      },
      "execution_count": 27,
      "outputs": []
    },
    {
      "cell_type": "code",
      "source": [
        "PrintList(['1', 1, 'the man', \"abc\"])"
      ],
      "metadata": {
        "colab": {
          "base_uri": "https://localhost:8080/"
        },
        "id": "fkIrs3pKe4Xi",
        "outputId": "5d3f7d9e-b9ab-4019-d7fa-0a3e01b9c198"
      },
      "execution_count": 28,
      "outputs": [
        {
          "output_type": "stream",
          "name": "stdout",
          "text": [
            "1\n",
            "1\n",
            "the man\n",
            "abc\n"
          ]
        }
      ]
    },
    {
      "cell_type": "code",
      "source": [
        "def isGoodRating(rating=4): \n",
        "    if(rating < 7):\n",
        "        print(\"this album sucks it's rating is\",rating)\n",
        "        \n",
        "    else:\n",
        "        print(\"this album is good its rating is\",rating)"
      ],
      "metadata": {
        "id": "xcyEdtGme7za"
      },
      "execution_count": 30,
      "outputs": []
    },
    {
      "cell_type": "code",
      "source": [
        "isGoodRating()\n",
        "isGoodRating(10)"
      ],
      "metadata": {
        "colab": {
          "base_uri": "https://localhost:8080/"
        },
        "id": "2E_tEaM0fAC0",
        "outputId": "a9b13e4a-f739-4505-edb9-5890217ac37b"
      },
      "execution_count": 31,
      "outputs": [
        {
          "output_type": "stream",
          "name": "stdout",
          "text": [
            "this album sucks it's rating is 4\n",
            "this album is good its rating is 10\n"
          ]
        }
      ]
    },
    {
      "cell_type": "code",
      "source": [
        "artist = \"Michael Jackson\"\n",
        "def printer1(artist):\n",
        "    internal_var1 = artist\n",
        "    print(artist, \"is an artist\")\n",
        "    \n",
        "printer1(artist)"
      ],
      "metadata": {
        "colab": {
          "base_uri": "https://localhost:8080/"
        },
        "id": "7U2Y5S_XfFS1",
        "outputId": "3901191e-beaa-4fc7-9eae-99d3d6c45896"
      },
      "execution_count": 32,
      "outputs": [
        {
          "output_type": "stream",
          "name": "stdout",
          "text": [
            "Michael Jackson is an artist\n"
          ]
        }
      ]
    },
    {
      "cell_type": "code",
      "source": [
        "artist = \"Michael Jackson\"\n",
        "\n",
        "def printer(artist):\n",
        "    global internal_var \n",
        "    internal_var= \"Whitney Houston\"\n",
        "    print(artist,\"is an artist\")\n",
        "\n",
        "printer(artist) \n",
        "printer(internal_var)"
      ],
      "metadata": {
        "colab": {
          "base_uri": "https://localhost:8080/"
        },
        "id": "HlaSx1-QfKUh",
        "outputId": "a81a0339-de21-4b95-8076-70d41a69c964"
      },
      "execution_count": 33,
      "outputs": [
        {
          "output_type": "stream",
          "name": "stdout",
          "text": [
            "Michael Jackson is an artist\n",
            "Whitney Houston is an artist\n"
          ]
        }
      ]
    },
    {
      "cell_type": "code",
      "source": [
        "myFavouriteBand = \"AC/DC\"\n",
        "\n",
        "def getBandRating(bandname):\n",
        "    if bandname == myFavouriteBand:\n",
        "        return 10.0\n",
        "    else:\n",
        "        return 0.0\n",
        "\n",
        "print(\"AC/DC's rating is:\", getBandRating(\"AC/DC\"))\n",
        "print(\"Deep Purple's rating is:\",getBandRating(\"Deep Purple\"))\n",
        "print(\"My favourite band is:\", myFavouriteBand)"
      ],
      "metadata": {
        "colab": {
          "base_uri": "https://localhost:8080/"
        },
        "id": "Y0-SBgZdfOYe",
        "outputId": "1c50c854-f287-4bb3-82d3-e51b46048866"
      },
      "execution_count": 36,
      "outputs": [
        {
          "output_type": "stream",
          "name": "stdout",
          "text": [
            "AC/DC's rating is: 10.0\n",
            "Deep Purple's rating is: 0.0\n",
            "My favourite band is: AC/DC\n"
          ]
        }
      ]
    },
    {
      "cell_type": "code",
      "source": [
        "del myFavouriteBand\n",
        "\n",
        "# Example of local variable\n",
        "\n",
        "def getBandRating(bandname):\n",
        "    myFavouriteBand = \"AC/DC\"\n",
        "    if bandname == myFavouriteBand:\n",
        "        return 10.0\n",
        "    else:\n",
        "        return 0.0\n",
        "\n",
        "print(\"AC/DC's rating is: \", getBandRating(\"AC/DC\"))\n",
        "print(\"Deep Purple's rating is: \", getBandRating(\"Deep Purple\"))\n",
        "print(\"My favourite band is\", myFavouriteBand)"
      ],
      "metadata": {
        "colab": {
          "base_uri": "https://localhost:8080/",
          "height": 240
        },
        "id": "MMFXyjr0fRr_",
        "outputId": "3706c6cb-f4d3-407f-c503-20beccab0df0"
      },
      "execution_count": 35,
      "outputs": [
        {
          "output_type": "stream",
          "name": "stdout",
          "text": [
            "AC/DC's rating is:  10.0\n",
            "Deep Purple's rating is:  0.0\n"
          ]
        },
        {
          "output_type": "error",
          "ename": "NameError",
          "evalue": "ignored",
          "traceback": [
            "\u001b[0;31m---------------------------------------------------------------------------\u001b[0m",
            "\u001b[0;31mNameError\u001b[0m                                 Traceback (most recent call last)",
            "\u001b[0;32m<ipython-input-35-aa0c6c7d9be2>\u001b[0m in \u001b[0;36m<module>\u001b[0;34m\u001b[0m\n\u001b[1;32m     12\u001b[0m \u001b[0mprint\u001b[0m\u001b[0;34m(\u001b[0m\u001b[0;34m\"AC/DC's rating is: \"\u001b[0m\u001b[0;34m,\u001b[0m \u001b[0mgetBandRating\u001b[0m\u001b[0;34m(\u001b[0m\u001b[0;34m\"AC/DC\"\u001b[0m\u001b[0;34m)\u001b[0m\u001b[0;34m)\u001b[0m\u001b[0;34m\u001b[0m\u001b[0;34m\u001b[0m\u001b[0m\n\u001b[1;32m     13\u001b[0m \u001b[0mprint\u001b[0m\u001b[0;34m(\u001b[0m\u001b[0;34m\"Deep Purple's rating is: \"\u001b[0m\u001b[0;34m,\u001b[0m \u001b[0mgetBandRating\u001b[0m\u001b[0;34m(\u001b[0m\u001b[0;34m\"Deep Purple\"\u001b[0m\u001b[0;34m)\u001b[0m\u001b[0;34m)\u001b[0m\u001b[0;34m\u001b[0m\u001b[0;34m\u001b[0m\u001b[0m\n\u001b[0;32m---> 14\u001b[0;31m \u001b[0mprint\u001b[0m\u001b[0;34m(\u001b[0m\u001b[0;34m\"My favourite band is\"\u001b[0m\u001b[0;34m,\u001b[0m \u001b[0mmyFavouriteBand\u001b[0m\u001b[0;34m)\u001b[0m\u001b[0;34m\u001b[0m\u001b[0;34m\u001b[0m\u001b[0m\n\u001b[0m",
            "\u001b[0;31mNameError\u001b[0m: name 'myFavouriteBand' is not defined"
          ]
        }
      ]
    },
    {
      "cell_type": "code",
      "source": [
        "myFavouriteBand = \"AC/DC\"\n",
        "\n",
        "def getBandRating(bandname):\n",
        "    myFavouriteBand = \"Deep Purple\"\n",
        "    if bandname == myFavouriteBand:\n",
        "        return 10.0\n",
        "    else:\n",
        "        return 0.0\n",
        "\n",
        "print(\"AC/DC's rating is:\",getBandRating(\"AC/DC\"))\n",
        "print(\"Deep Purple's rating is: \",getBandRating(\"Deep Purple\"))\n",
        "print(\"My favourite band is:\",myFavouriteBand)"
      ],
      "metadata": {
        "colab": {
          "base_uri": "https://localhost:8080/"
        },
        "id": "s0CPq9gefaIQ",
        "outputId": "867cc51c-5115-4939-d86e-dcf5580eae05"
      },
      "execution_count": 37,
      "outputs": [
        {
          "output_type": "stream",
          "name": "stdout",
          "text": [
            "AC/DC's rating is: 0.0\n",
            "Deep Purple's rating is:  10.0\n",
            "My favourite band is: AC/DC\n"
          ]
        }
      ]
    },
    {
      "cell_type": "code",
      "source": [
        "def printAll(*args): # All the arguments are 'packed' into args which can be treated like a tuple\n",
        "    print(\"No of arguments:\", len(args)) \n",
        "    for argument in args:\n",
        "        print(argument)\n",
        "#printAll with 3 arguments\n",
        "printAll('Horsefeather','Adonis','Bone')\n",
        "#printAll with 4 arguments\n",
        "printAll('Sidecar','Long Island','Mudslide','Carriage')"
      ],
      "metadata": {
        "colab": {
          "base_uri": "https://localhost:8080/"
        },
        "id": "czYsoKUXfflR",
        "outputId": "660a826e-9ae3-4499-be2d-3a09dac7d1ed"
      },
      "execution_count": 38,
      "outputs": [
        {
          "output_type": "stream",
          "name": "stdout",
          "text": [
            "No of arguments: 3\n",
            "Horsefeather\n",
            "Adonis\n",
            "Bone\n",
            "No of arguments: 4\n",
            "Sidecar\n",
            "Long Island\n",
            "Mudslide\n",
            "Carriage\n"
          ]
        }
      ]
    },
    {
      "cell_type": "code",
      "source": [
        "def printDictionary(**args):\n",
        "    for key in args:\n",
        "        print(key + \" : \" + args[key])\n",
        "\n",
        "printDictionary(Country='Canada',Province='Ontario',City='Toronto')\n",
        "    "
      ],
      "metadata": {
        "colab": {
          "base_uri": "https://localhost:8080/"
        },
        "id": "xUO78LSvfief",
        "outputId": "f20d9c22-d23c-442e-d845-91944507d187"
      },
      "execution_count": 39,
      "outputs": [
        {
          "output_type": "stream",
          "name": "stdout",
          "text": [
            "Country : Canada\n",
            "Province : Ontario\n",
            "City : Toronto\n"
          ]
        }
      ]
    },
    {
      "cell_type": "code",
      "source": [
        "def addItems(list):\n",
        "    list.append(\"Three\")\n",
        "    list.append(\"Four\")\n",
        "\n",
        "myList = [\"One\",\"Two\"]\n",
        "\n",
        "addItems(myList)\n",
        "\n",
        "myList"
      ],
      "metadata": {
        "colab": {
          "base_uri": "https://localhost:8080/"
        },
        "id": "tlSJn4bBfmfV",
        "outputId": "5e1a9088-c604-4ef7-98d0-ec3addcde279"
      },
      "execution_count": 40,
      "outputs": [
        {
          "output_type": "execute_result",
          "data": {
            "text/plain": [
              "['One', 'Two', 'Three', 'Four']"
            ]
          },
          "metadata": {},
          "execution_count": 40
        }
      ]
    }
  ]
}