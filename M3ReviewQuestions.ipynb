{
  "nbformat": 4,
  "nbformat_minor": 0,
  "metadata": {
    "colab": {
      "provenance": [],
      "authorship_tag": "ABX9TyOm2BInwi9ITl2LYPbFV/KF",
      "include_colab_link": true
    },
    "kernelspec": {
      "name": "python3",
      "display_name": "Python 3"
    },
    "language_info": {
      "name": "python"
    }
  },
  "cells": [
    {
      "cell_type": "markdown",
      "metadata": {
        "id": "view-in-github",
        "colab_type": "text"
      },
      "source": [
        "<a href=\"https://colab.research.google.com/github/aarmentamna/PY0101EN/blob/main/M3ReviewQuestions.ipynb\" target=\"_parent\"><img src=\"https://colab.research.google.com/assets/colab-badge.svg\" alt=\"Open In Colab\"/></a>"
      ]
    },
    {
      "cell_type": "markdown",
      "source": [
        "What is the output of the following lines of code:\n",
        "\n",
        "x=1\n",
        "\n",
        "if(x!=1):\n",
        "\n",
        "print('Hello')\n",
        "\n",
        "else:\n",
        "\n",
        "print('Hi')\n",
        "\n",
        "print('Mike')"
      ],
      "metadata": {
        "id": "z5DuMe1u8Dhe"
      }
    },
    {
      "cell_type": "code",
      "execution_count": 2,
      "metadata": {
        "colab": {
          "base_uri": "https://localhost:8080/"
        },
        "id": "qAXNmhTw8Chn",
        "outputId": "7477c0dd-2569-4b8f-b55b-11e40c1020f3"
      },
      "outputs": [
        {
          "output_type": "stream",
          "name": "stdout",
          "text": [
            "Hi Mike\n"
          ]
        }
      ],
      "source": [
        "print('Hi Mike')"
      ]
    },
    {
      "cell_type": "markdown",
      "source": [
        "What is the output of the following few lines of code?\n",
        "\n",
        "A = ['1','2','3']\n",
        "\n",
        "for a in A:\n",
        "\n",
        "print(2*a)"
      ],
      "metadata": {
        "id": "TZTiJVmu8Wnx"
      }
    },
    {
      "cell_type": "code",
      "source": [
        "A = ['1','2','3']\n",
        "\n",
        "for a in A:\n",
        "  print(2*a)"
      ],
      "metadata": {
        "colab": {
          "base_uri": "https://localhost:8080/"
        },
        "id": "WXj9p6ny8e1i",
        "outputId": "635a3d79-ad97-4799-dc9a-794d5c1305aa"
      },
      "execution_count": 4,
      "outputs": [
        {
          "output_type": "stream",
          "name": "stdout",
          "text": [
            "11\n",
            "22\n",
            "33\n"
          ]
        }
      ]
    },
    {
      "cell_type": "markdown",
      "source": [
        "Consider the function Delta, when will the function return a value of 1\n",
        "\n",
        "def Delta(x):\n",
        "\n",
        "if x==0:\n",
        "\n",
        "y=1;\n",
        "\n",
        "else:\n",
        "\n",
        "y=0;\n",
        "\n",
        "return(y)"
      ],
      "metadata": {
        "id": "roGwVMXE8oUN"
      }
    },
    {
      "cell_type": "code",
      "source": [
        "x=0\n",
        "if x==0:\n",
        "  y=1;\n",
        "else:\n",
        "  y=0;\n",
        "\n",
        "print(y)"
      ],
      "metadata": {
        "colab": {
          "base_uri": "https://localhost:8080/"
        },
        "id": "jfilLXkc8p5y",
        "outputId": "82da0b1d-e5b2-44fd-d0e5-efddc8a786a1"
      },
      "execution_count": 5,
      "outputs": [
        {
          "output_type": "stream",
          "name": "stdout",
          "text": [
            "1\n"
          ]
        }
      ]
    },
    {
      "cell_type": "markdown",
      "source": [
        "What is the correct way to sort the list 'B' using a method? The result should not return a new list, just change the list 'B'."
      ],
      "metadata": {
        "id": "JCG7Caov8_3G"
      }
    },
    {
      "cell_type": "code",
      "source": [
        "L=['C','B','A']\n",
        "L.sort()\n",
        "print(L)"
      ],
      "metadata": {
        "colab": {
          "base_uri": "https://localhost:8080/"
        },
        "id": "sVXVhRiT9GAI",
        "outputId": "86016281-0ef6-4713-a1d3-8e82aeb324ae"
      },
      "execution_count": 8,
      "outputs": [
        {
          "output_type": "stream",
          "name": "stdout",
          "text": [
            "['A', 'B', 'C']\n"
          ]
        }
      ]
    }
  ]
}